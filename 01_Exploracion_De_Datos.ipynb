{
  "nbformat": 4,
  "nbformat_minor": 0,
  "metadata": {
    "colab": {
      "provenance": []
    },
    "kernelspec": {
      "name": "python3",
      "display_name": "Python 3"
    },
    "language_info": {
      "name": "python"
    }
  },
  "cells": [
    {
      "cell_type": "markdown",
      "source": [
        "[![Open in Colab](https://colab.research.google.com/assets/colab-badge.svg)](https://colab.research.google.com/github/Moorea-AI/AI4ENG_UDEA/blob/main/01_Exploración_de_datos.ipynb)"
      ],
      "metadata": {
        "id": "YmKqjksL6Twh"
      }
    },
    {
      "cell_type": "markdown",
      "source": [
        "EXPLORACIÓN DE DATOS PARA EL DATASET \"Fraude en Transacciones Electrónicas\" TOMADO DE: https://www.kaggle.com/competitions/ieee-fraud-detection/data?select=test_transaction"
      ],
      "metadata": {
        "id": "Y6-KU8P-w4nB"
      }
    },
    {
      "cell_type": "markdown",
      "source": [
        "Presentado por: </br>\n",
        "Aura Luz Moreno Díaz, Estudiante de Ingeniería Industrial </br>\n",
        "Evelyn Zharick Saez Gallego, Estudiante de Ingeniería Ambiental</br>\n",
        "Para la materia:<br>\n",
        "INTRODUCCIÓN A LA INTELIGENCIA ARTIFICIAL PARA LAS CIENCIAS Y LA INGENIERIA<BR>\n",
        "Con el profesor: RAÚL RAMOS POLLAN"
      ],
      "metadata": {
        "id": "jcZxrE1XxC-z"
      }
    },
    {
      "cell_type": "code",
      "execution_count": null,
      "metadata": {
        "id": "gCYrctRVwvPv"
      },
      "outputs": [],
      "source": [
        "#PASO 1: Importación de librerias que serán necesarias para la exploración de datos\n",
        "import pandas as pd\n",
        "import numpy as np\n",
        "import matplotlib.pyplot as plt\n",
        "import random\n",
        "import requests\n",
        "import json\n",
        "\n",
        "#Importacion de librerias para manipulación de datos para Machine Learning\n",
        "from sklearn.linear_model import LinearRegression\n",
        "from sklearn.tree import DecisionTreeRegressor\n",
        "from sklearn.ensemble import RandomForestRegressor\n",
        "from sklearn.model_selection import cross_validate, ShuffleSplit\n",
        "\n",
        "from sklearn.model_selection import learning_curve\n",
        "from sklearn.metrics import mean_squared_error\n",
        "from sklearn.impute import SimpleImputer\n",
        "from sklearn.preprocessing import OneHotEncoder\n",
        "from sklearn.preprocessing import FunctionTransformer\n",
        "from sklearn.pipeline import Pipeline\n",
        "from sklearn.compose import ColumnTransformer\n",
        "from sklearn.preprocessing import LabelEncoder\n",
        "from sklearn import utils\n",
        "from sklearn import preprocessing\n",
        "from sklearn.model_selection import train_test_split,KFold,GroupKFold\n",
        "import lightgbm as lgb\n",
        "import gc\n",
        "\n",
        "import warnings\n",
        "warnings.filterwarnings('ignore')\n"
      ]
    },
    {
      "cell_type": "code",
      "source": [
        "# Cargando credenciales de Kaggel\n",
        "{\"username\":\"mooreamed\",\"key\":\"e97f8db473e00551f7aea527af024391\"}\n",
        "with open('kaggle.json', 'w') as file:\n",
        "    json.dump(data, file, indent=4)\n",
        "\n",
        "!cp kaggle.json ~/.kaggle/"
      ],
      "metadata": {
        "id": "gzj11gdT03In"
      },
      "execution_count": null,
      "outputs": []
    },
    {
      "cell_type": "code",
      "source": [
        "# Se descarga el dataset\n",
        "!kaggle datasets download -d niangmohamed/ieeecis-fraud-detection\n",
        "\n",
        "# Se descomprime el dataset\n",
        "!unzip ieeecis-fraud-detection.zip"
      ],
      "metadata": {
        "colab": {
          "base_uri": "https://localhost:8080/"
        },
        "id": "6BkJ2yvf1Rxa",
        "outputId": "4aea909f-27c2-4686-ceb7-132d5ca1a257"
      },
      "execution_count": null,
      "outputs": [
        {
          "output_type": "stream",
          "name": "stdout",
          "text": [
            "Downloading ieeecis-fraud-detection.zip to /content\n",
            " 96% 113M/118M [00:01<00:00, 83.6MB/s] \n",
            "100% 118M/118M [00:01<00:00, 75.6MB/s]\n",
            "Archive:  ieeecis-fraud-detection.zip\n",
            "  inflating: sample_submission.csv   \n",
            "  inflating: test_identity.csv       \n",
            "  inflating: test_transaction.csv    \n",
            "  inflating: train_identity.csv      \n",
            "  inflating: train_transaction.csv   \n"
          ]
        }
      ]
    },
    {
      "cell_type": "code",
      "source": [
        "#Verificamos que se este funcionando la conexión de la API\n",
        "!kaggle datasets list"
      ],
      "metadata": {
        "colab": {
          "base_uri": "https://localhost:8080/"
        },
        "id": "wrdMIUP_1Ohi",
        "outputId": "7646f4e8-bb2f-427f-b224-d338c141d697"
      },
      "execution_count": null,
      "outputs": [
        {
          "output_type": "stream",
          "name": "stdout",
          "text": [
            "ref                                                            title                                                size  lastUpdated          downloadCount  voteCount  usabilityRating  \n",
            "-------------------------------------------------------------  --------------------------------------------------  -----  -------------------  -------------  ---------  ---------------  \n",
            "salvatorerastelli/spotify-and-youtube                          Spotify and Youtube                                   9MB  2023-03-20 15:43:25           9136        334  1.0              \n",
            "arnabchaki/data-science-salaries-2023                          Data Science Salaries 2023  💸                        25KB  2023-04-13 09:55:16           2507         69  1.0              \n",
            "erdemtaha/cancer-data                                          Cancer Data                                          49KB  2023-03-22 07:57:00           4237         97  1.0              \n",
            "evangower/premier-league-2022-2023                             Premier League 2022-2023                              7KB  2023-04-14 19:45:22            638         28  1.0              \n",
            "lokeshparab/amazon-products-dataset                            Amazon Products Sales Dataset 2023                   80MB  2023-03-26 10:45:19           4654         97  1.0              \n",
            "iammustafatz/diabetes-prediction-dataset                       Diabetes prediction dataset                         734KB  2023-04-08 06:11:45           1467         31  1.0              \n",
            "ulrikthygepedersen/fastfood-nutrition                          Fastfood Nutrition                                   12KB  2023-03-21 10:02:41           3755         72  1.0              \n",
            "mikoajfish99/us-recession-and-financial-indicators             🏛️  Financial Indicators of US Recession 📉          989KB  2023-04-17 13:54:47            499         25  1.0              \n",
            "desalegngeb/students-exam-scores                               Students Exam Scores: Extended Dataset              695KB  2023-04-14 00:15:38            870         27  1.0              \n",
            "rkiattisak/student-performance-in-mathematics                  Student performance prediction                        9KB  2023-03-12 04:32:56           9624        208  1.0              \n",
            "ppb00x/credit-risk-customers                                   credit_risk_customers                                18KB  2023-04-12 08:28:28           1430         41  1.0              \n",
            "ritwikb3/heart-disease-cleveland                               Heart Disease Cleveland                               3KB  2023-03-28 17:48:48            613         24  1.0              \n",
            "ppb00x/country-gdp                                             Country_GDP                                           7KB  2023-04-07 06:47:36           1414         40  1.0              \n",
            "dansbecker/melbourne-housing-snapshot                          Melbourne Housing Snapshot                          451KB  2018-06-05 12:52:24         113424       1250  0.7058824        \n",
            "r1shabhgupta/google-stock-price-daily-weekly-and-monthly-2023  Google Stock Price: Daily, Weekly & Monthly (2023)   61KB  2023-04-15 18:23:08            724         30  1.0              \n",
            "omartorres25/honda-data                                        Honda Cars Data                                     184KB  2023-03-28 04:19:11           1559         34  1.0              \n",
            "harshghadiya/kidneystone                                       Kidney Stone Dataset                                  2KB  2023-04-12 06:09:00            778         24  0.8235294        \n",
            "ashishraut64/internet-users                                    Global Internet users                               163KB  2023-03-29 12:25:13           2512         62  1.0              \n",
            "andrezaza/clapper-massive-rotten-tomatoes-movies-and-reviews   🎬 Massive Rotten Tomatoes Movies & Reviews          152MB  2023-04-13 10:58:54            542         22  1.0              \n",
            "r1chardson/the-world-university-rankings-2011-2023             THE World University Rankings 2011-2023               1MB  2023-04-03 12:43:37           2249         53  1.0              \n"
          ]
        }
      ]
    },
    {
      "cell_type": "markdown",
      "source": [
        "# ANALISIS DE LOS DATOS\n",
        "\n",
        "###**TABLA IDENTITY** <BR>\n",
        "Las variables en esta tabla son información de identidad: \n",
        "<BR><BR>\n",
        "información de conexión de red (IP, ISP, Proxy, etc.) y firma digital (UA/\n",
        "navegador/OS/versión, etc.) asociada con las transacciones.<BR><BR>\n",
        "Son recopilados por el sistema de protección contra fraudes de Vesta y los socios de seguridad digital.<BR><BR>\n",
        "(Los nombres de los campos están enmascarados y no se proporcionará el diccionario por pares para la protección de la privacidad y el acuerdo del contrato)<BR><BR>\n",
        "\n",
        "TransactionID<br>\n",
        "id_12 - id_38<BR>\n",
        "DeviceType<BR>\n",
        "DeviceInfo<BR>\n",
        "\n",
        "<BR><BR>\n",
        "\n",
        "\n",
        "###**TABLA TRANSACCIONES:** <BR>\n",
        "\n",
        "TransactionDT: timedelta de una fecha y hora de referencia determinada (no una marca de tiempo real). timedelta de una fecha y hora de referencia dada (no una marca de tiempo real). El primer valor de TransactionDT es 86400, que corresponde a la cantidad de segundos en un día (60 * 60 * 24 = 86400), así que creo que la unidad es segundos. Usando esto, sabemos que los datos abarcan 6 meses, ya que el valor máximo es 15811131, que correspondería al día 183”\n",
        "<BR>\n",
        "\n",
        "TransactionAMT: monto del pago de la transacción en USD<BR>\n",
        "\n",
        "ProductCD: código de producto, el producto para cada transacción<BR>\n",
        "\n",
        "card1 - card6: información de la tarjeta de pago, como tipo de tarjeta, categoría de tarjeta, banco emisor, país, etc.<BR>\n",
        "\n",
        "dirección: dirección addr1 como región de facturación, addr2 como país de facturación<BR>\n",
        "\n",
        "distancia: distancias entre (no limitadas) la dirección de facturación, la dirección postal, el código postal, la dirección IP, el área telefónica, etc\n",
        "<BR>\n",
        "\n",
        "P_ y (R__) emaildomain: dominio de correo electrónico del comprador y del destinatario<BR>\n",
        "\n",
        "C1-C14: conteo, como cuántas direcciones se encuentran asociadas con la tarjeta de pago, etc. El significado real está enmascarado.<BR>\n",
        "\n",
        "D1-D15: timedelta, como días entre transacciones anteriores, etc.<BR>\n",
        "\n",
        "M1-M9: coincidencia, como nombres en la tarjeta y dirección, etc.<BR>\n",
        "\n",
        "Vxxx: características completas diseñadas por Vesta, que incluyen clasificación, conteo y otras relaciones de entidad.<BR><BR>\n",
        "\n",
        "Características categóricas:<BR>\n",
        "\n",
        "ProductCD<BR>\n",
        "card1 - card6<BR>\n",
        "addr1, addr2<BR>\n",
        "P_emaildomain<BR>\n",
        "R_emaildomain<BR>\n",
        "M1 - M9<BR>\n",
        "\n",
        "\n"
      ],
      "metadata": {
        "id": "jPj6EZVAAd3N"
      }
    },
    {
      "cell_type": "code",
      "source": [
        "#Vamos a leer los datos que tiene el dataset para empezar con el análisis explorartorio\n",
        "df = pd.read_csv('test_identity.csv')\n",
        "df.head(10)"
      ],
      "metadata": {
        "colab": {
          "base_uri": "https://localhost:8080/",
          "height": 890
        },
        "id": "Xg3tKPB11V6l",
        "outputId": "552c2a19-7365-4385-a918-5eb8834016de"
      },
      "execution_count": 21,
      "outputs": [
        {
          "output_type": "execute_result",
          "data": {
            "text/plain": [
              "   TransactionID  id-01     id-02  id-03  id-04  id-05  id-06  id-07  id-08  \\\n",
              "0        3663586  -45.0  280290.0    NaN    NaN    0.0    0.0    NaN    NaN   \n",
              "1        3663588    0.0    3579.0    0.0    0.0    0.0    0.0    NaN    NaN   \n",
              "2        3663597   -5.0  185210.0    NaN    NaN    1.0    0.0    NaN    NaN   \n",
              "3        3663601  -45.0  252944.0    0.0    0.0    0.0    0.0    NaN    NaN   \n",
              "4        3663602  -95.0  328680.0    NaN    NaN    7.0  -33.0    NaN    NaN   \n",
              "5        3663622   -5.0   36786.0    NaN    NaN    4.0   -2.0    NaN    NaN   \n",
              "6        3663624   -5.0   12577.0    0.0    0.0    2.0   -2.0    NaN    NaN   \n",
              "7        3663626   -5.0   44726.0    0.0    0.0    0.0   -2.0    NaN    NaN   \n",
              "8        3663629   -5.0  125997.0    0.0    0.0    2.0   -2.0    NaN    NaN   \n",
              "9        3663658   -5.0   98741.0    NaN    NaN    0.0    0.0    NaN    NaN   \n",
              "\n",
              "   id-09  ...                    id-31  id-32      id-33           id-34  \\\n",
              "0    NaN  ...  chrome 67.0 for android    NaN        NaN             NaN   \n",
              "1    0.0  ...  chrome 67.0 for android   24.0   1280x720  match_status:2   \n",
              "2    NaN  ...       ie 11.0 for tablet    NaN        NaN             NaN   \n",
              "3    0.0  ...  chrome 67.0 for android    NaN        NaN             NaN   \n",
              "4    NaN  ...  chrome 67.0 for android    NaN        NaN             NaN   \n",
              "5    NaN  ...       mobile safari 11.0   32.0  2208x1242  match_status:2   \n",
              "6    0.0  ...       mobile safari 11.0   32.0  2208x1242  match_status:2   \n",
              "7    0.0  ...       mobile safari 11.0   32.0  2208x1242  match_status:2   \n",
              "8    0.0  ...       mobile safari 11.0   32.0  2208x1242  match_status:2   \n",
              "9    NaN  ...       mobile safari 11.0   32.0  2048x1536  match_status:2   \n",
              "\n",
              "   id-35 id-36 id-37  id-38  DeviceType                   DeviceInfo  \n",
              "0      F     F     T      F      mobile  MYA-L13 Build/HUAWEIMYA-L13  \n",
              "1      T     F     T      T      mobile         LGLS676 Build/MXB48T  \n",
              "2      F     T     T      F     desktop                  Trident/7.0  \n",
              "3      F     F     T      F      mobile  MYA-L13 Build/HUAWEIMYA-L13  \n",
              "4      F     F     T      F      mobile         SM-G9650 Build/R16NW  \n",
              "5      T     F     F      T      mobile                   iOS Device  \n",
              "6      T     F     F      T      mobile                   iOS Device  \n",
              "7      T     F     F      T      mobile                   iOS Device  \n",
              "8      T     F     F      T      mobile                   iOS Device  \n",
              "9      T     F     F      F      mobile                   iOS Device  \n",
              "\n",
              "[10 rows x 41 columns]"
            ],
            "text/html": [
              "\n",
              "  <div id=\"df-4e099c47-9587-476c-a139-4b39bf19f8af\">\n",
              "    <div class=\"colab-df-container\">\n",
              "      <div>\n",
              "<style scoped>\n",
              "    .dataframe tbody tr th:only-of-type {\n",
              "        vertical-align: middle;\n",
              "    }\n",
              "\n",
              "    .dataframe tbody tr th {\n",
              "        vertical-align: top;\n",
              "    }\n",
              "\n",
              "    .dataframe thead th {\n",
              "        text-align: right;\n",
              "    }\n",
              "</style>\n",
              "<table border=\"1\" class=\"dataframe\">\n",
              "  <thead>\n",
              "    <tr style=\"text-align: right;\">\n",
              "      <th></th>\n",
              "      <th>TransactionID</th>\n",
              "      <th>id-01</th>\n",
              "      <th>id-02</th>\n",
              "      <th>id-03</th>\n",
              "      <th>id-04</th>\n",
              "      <th>id-05</th>\n",
              "      <th>id-06</th>\n",
              "      <th>id-07</th>\n",
              "      <th>id-08</th>\n",
              "      <th>id-09</th>\n",
              "      <th>...</th>\n",
              "      <th>id-31</th>\n",
              "      <th>id-32</th>\n",
              "      <th>id-33</th>\n",
              "      <th>id-34</th>\n",
              "      <th>id-35</th>\n",
              "      <th>id-36</th>\n",
              "      <th>id-37</th>\n",
              "      <th>id-38</th>\n",
              "      <th>DeviceType</th>\n",
              "      <th>DeviceInfo</th>\n",
              "    </tr>\n",
              "  </thead>\n",
              "  <tbody>\n",
              "    <tr>\n",
              "      <th>0</th>\n",
              "      <td>3663586</td>\n",
              "      <td>-45.0</td>\n",
              "      <td>280290.0</td>\n",
              "      <td>NaN</td>\n",
              "      <td>NaN</td>\n",
              "      <td>0.0</td>\n",
              "      <td>0.0</td>\n",
              "      <td>NaN</td>\n",
              "      <td>NaN</td>\n",
              "      <td>NaN</td>\n",
              "      <td>...</td>\n",
              "      <td>chrome 67.0 for android</td>\n",
              "      <td>NaN</td>\n",
              "      <td>NaN</td>\n",
              "      <td>NaN</td>\n",
              "      <td>F</td>\n",
              "      <td>F</td>\n",
              "      <td>T</td>\n",
              "      <td>F</td>\n",
              "      <td>mobile</td>\n",
              "      <td>MYA-L13 Build/HUAWEIMYA-L13</td>\n",
              "    </tr>\n",
              "    <tr>\n",
              "      <th>1</th>\n",
              "      <td>3663588</td>\n",
              "      <td>0.0</td>\n",
              "      <td>3579.0</td>\n",
              "      <td>0.0</td>\n",
              "      <td>0.0</td>\n",
              "      <td>0.0</td>\n",
              "      <td>0.0</td>\n",
              "      <td>NaN</td>\n",
              "      <td>NaN</td>\n",
              "      <td>0.0</td>\n",
              "      <td>...</td>\n",
              "      <td>chrome 67.0 for android</td>\n",
              "      <td>24.0</td>\n",
              "      <td>1280x720</td>\n",
              "      <td>match_status:2</td>\n",
              "      <td>T</td>\n",
              "      <td>F</td>\n",
              "      <td>T</td>\n",
              "      <td>T</td>\n",
              "      <td>mobile</td>\n",
              "      <td>LGLS676 Build/MXB48T</td>\n",
              "    </tr>\n",
              "    <tr>\n",
              "      <th>2</th>\n",
              "      <td>3663597</td>\n",
              "      <td>-5.0</td>\n",
              "      <td>185210.0</td>\n",
              "      <td>NaN</td>\n",
              "      <td>NaN</td>\n",
              "      <td>1.0</td>\n",
              "      <td>0.0</td>\n",
              "      <td>NaN</td>\n",
              "      <td>NaN</td>\n",
              "      <td>NaN</td>\n",
              "      <td>...</td>\n",
              "      <td>ie 11.0 for tablet</td>\n",
              "      <td>NaN</td>\n",
              "      <td>NaN</td>\n",
              "      <td>NaN</td>\n",
              "      <td>F</td>\n",
              "      <td>T</td>\n",
              "      <td>T</td>\n",
              "      <td>F</td>\n",
              "      <td>desktop</td>\n",
              "      <td>Trident/7.0</td>\n",
              "    </tr>\n",
              "    <tr>\n",
              "      <th>3</th>\n",
              "      <td>3663601</td>\n",
              "      <td>-45.0</td>\n",
              "      <td>252944.0</td>\n",
              "      <td>0.0</td>\n",
              "      <td>0.0</td>\n",
              "      <td>0.0</td>\n",
              "      <td>0.0</td>\n",
              "      <td>NaN</td>\n",
              "      <td>NaN</td>\n",
              "      <td>0.0</td>\n",
              "      <td>...</td>\n",
              "      <td>chrome 67.0 for android</td>\n",
              "      <td>NaN</td>\n",
              "      <td>NaN</td>\n",
              "      <td>NaN</td>\n",
              "      <td>F</td>\n",
              "      <td>F</td>\n",
              "      <td>T</td>\n",
              "      <td>F</td>\n",
              "      <td>mobile</td>\n",
              "      <td>MYA-L13 Build/HUAWEIMYA-L13</td>\n",
              "    </tr>\n",
              "    <tr>\n",
              "      <th>4</th>\n",
              "      <td>3663602</td>\n",
              "      <td>-95.0</td>\n",
              "      <td>328680.0</td>\n",
              "      <td>NaN</td>\n",
              "      <td>NaN</td>\n",
              "      <td>7.0</td>\n",
              "      <td>-33.0</td>\n",
              "      <td>NaN</td>\n",
              "      <td>NaN</td>\n",
              "      <td>NaN</td>\n",
              "      <td>...</td>\n",
              "      <td>chrome 67.0 for android</td>\n",
              "      <td>NaN</td>\n",
              "      <td>NaN</td>\n",
              "      <td>NaN</td>\n",
              "      <td>F</td>\n",
              "      <td>F</td>\n",
              "      <td>T</td>\n",
              "      <td>F</td>\n",
              "      <td>mobile</td>\n",
              "      <td>SM-G9650 Build/R16NW</td>\n",
              "    </tr>\n",
              "    <tr>\n",
              "      <th>5</th>\n",
              "      <td>3663622</td>\n",
              "      <td>-5.0</td>\n",
              "      <td>36786.0</td>\n",
              "      <td>NaN</td>\n",
              "      <td>NaN</td>\n",
              "      <td>4.0</td>\n",
              "      <td>-2.0</td>\n",
              "      <td>NaN</td>\n",
              "      <td>NaN</td>\n",
              "      <td>NaN</td>\n",
              "      <td>...</td>\n",
              "      <td>mobile safari 11.0</td>\n",
              "      <td>32.0</td>\n",
              "      <td>2208x1242</td>\n",
              "      <td>match_status:2</td>\n",
              "      <td>T</td>\n",
              "      <td>F</td>\n",
              "      <td>F</td>\n",
              "      <td>T</td>\n",
              "      <td>mobile</td>\n",
              "      <td>iOS Device</td>\n",
              "    </tr>\n",
              "    <tr>\n",
              "      <th>6</th>\n",
              "      <td>3663624</td>\n",
              "      <td>-5.0</td>\n",
              "      <td>12577.0</td>\n",
              "      <td>0.0</td>\n",
              "      <td>0.0</td>\n",
              "      <td>2.0</td>\n",
              "      <td>-2.0</td>\n",
              "      <td>NaN</td>\n",
              "      <td>NaN</td>\n",
              "      <td>0.0</td>\n",
              "      <td>...</td>\n",
              "      <td>mobile safari 11.0</td>\n",
              "      <td>32.0</td>\n",
              "      <td>2208x1242</td>\n",
              "      <td>match_status:2</td>\n",
              "      <td>T</td>\n",
              "      <td>F</td>\n",
              "      <td>F</td>\n",
              "      <td>T</td>\n",
              "      <td>mobile</td>\n",
              "      <td>iOS Device</td>\n",
              "    </tr>\n",
              "    <tr>\n",
              "      <th>7</th>\n",
              "      <td>3663626</td>\n",
              "      <td>-5.0</td>\n",
              "      <td>44726.0</td>\n",
              "      <td>0.0</td>\n",
              "      <td>0.0</td>\n",
              "      <td>0.0</td>\n",
              "      <td>-2.0</td>\n",
              "      <td>NaN</td>\n",
              "      <td>NaN</td>\n",
              "      <td>0.0</td>\n",
              "      <td>...</td>\n",
              "      <td>mobile safari 11.0</td>\n",
              "      <td>32.0</td>\n",
              "      <td>2208x1242</td>\n",
              "      <td>match_status:2</td>\n",
              "      <td>T</td>\n",
              "      <td>F</td>\n",
              "      <td>F</td>\n",
              "      <td>T</td>\n",
              "      <td>mobile</td>\n",
              "      <td>iOS Device</td>\n",
              "    </tr>\n",
              "    <tr>\n",
              "      <th>8</th>\n",
              "      <td>3663629</td>\n",
              "      <td>-5.0</td>\n",
              "      <td>125997.0</td>\n",
              "      <td>0.0</td>\n",
              "      <td>0.0</td>\n",
              "      <td>2.0</td>\n",
              "      <td>-2.0</td>\n",
              "      <td>NaN</td>\n",
              "      <td>NaN</td>\n",
              "      <td>0.0</td>\n",
              "      <td>...</td>\n",
              "      <td>mobile safari 11.0</td>\n",
              "      <td>32.0</td>\n",
              "      <td>2208x1242</td>\n",
              "      <td>match_status:2</td>\n",
              "      <td>T</td>\n",
              "      <td>F</td>\n",
              "      <td>F</td>\n",
              "      <td>T</td>\n",
              "      <td>mobile</td>\n",
              "      <td>iOS Device</td>\n",
              "    </tr>\n",
              "    <tr>\n",
              "      <th>9</th>\n",
              "      <td>3663658</td>\n",
              "      <td>-5.0</td>\n",
              "      <td>98741.0</td>\n",
              "      <td>NaN</td>\n",
              "      <td>NaN</td>\n",
              "      <td>0.0</td>\n",
              "      <td>0.0</td>\n",
              "      <td>NaN</td>\n",
              "      <td>NaN</td>\n",
              "      <td>NaN</td>\n",
              "      <td>...</td>\n",
              "      <td>mobile safari 11.0</td>\n",
              "      <td>32.0</td>\n",
              "      <td>2048x1536</td>\n",
              "      <td>match_status:2</td>\n",
              "      <td>T</td>\n",
              "      <td>F</td>\n",
              "      <td>F</td>\n",
              "      <td>F</td>\n",
              "      <td>mobile</td>\n",
              "      <td>iOS Device</td>\n",
              "    </tr>\n",
              "  </tbody>\n",
              "</table>\n",
              "<p>10 rows × 41 columns</p>\n",
              "</div>\n",
              "      <button class=\"colab-df-convert\" onclick=\"convertToInteractive('df-4e099c47-9587-476c-a139-4b39bf19f8af')\"\n",
              "              title=\"Convert this dataframe to an interactive table.\"\n",
              "              style=\"display:none;\">\n",
              "        \n",
              "  <svg xmlns=\"http://www.w3.org/2000/svg\" height=\"24px\"viewBox=\"0 0 24 24\"\n",
              "       width=\"24px\">\n",
              "    <path d=\"M0 0h24v24H0V0z\" fill=\"none\"/>\n",
              "    <path d=\"M18.56 5.44l.94 2.06.94-2.06 2.06-.94-2.06-.94-.94-2.06-.94 2.06-2.06.94zm-11 1L8.5 8.5l.94-2.06 2.06-.94-2.06-.94L8.5 2.5l-.94 2.06-2.06.94zm10 10l.94 2.06.94-2.06 2.06-.94-2.06-.94-.94-2.06-.94 2.06-2.06.94z\"/><path d=\"M17.41 7.96l-1.37-1.37c-.4-.4-.92-.59-1.43-.59-.52 0-1.04.2-1.43.59L10.3 9.45l-7.72 7.72c-.78.78-.78 2.05 0 2.83L4 21.41c.39.39.9.59 1.41.59.51 0 1.02-.2 1.41-.59l7.78-7.78 2.81-2.81c.8-.78.8-2.07 0-2.86zM5.41 20L4 18.59l7.72-7.72 1.47 1.35L5.41 20z\"/>\n",
              "  </svg>\n",
              "      </button>\n",
              "      \n",
              "  <style>\n",
              "    .colab-df-container {\n",
              "      display:flex;\n",
              "      flex-wrap:wrap;\n",
              "      gap: 12px;\n",
              "    }\n",
              "\n",
              "    .colab-df-convert {\n",
              "      background-color: #E8F0FE;\n",
              "      border: none;\n",
              "      border-radius: 50%;\n",
              "      cursor: pointer;\n",
              "      display: none;\n",
              "      fill: #1967D2;\n",
              "      height: 32px;\n",
              "      padding: 0 0 0 0;\n",
              "      width: 32px;\n",
              "    }\n",
              "\n",
              "    .colab-df-convert:hover {\n",
              "      background-color: #E2EBFA;\n",
              "      box-shadow: 0px 1px 2px rgba(60, 64, 67, 0.3), 0px 1px 3px 1px rgba(60, 64, 67, 0.15);\n",
              "      fill: #174EA6;\n",
              "    }\n",
              "\n",
              "    [theme=dark] .colab-df-convert {\n",
              "      background-color: #3B4455;\n",
              "      fill: #D2E3FC;\n",
              "    }\n",
              "\n",
              "    [theme=dark] .colab-df-convert:hover {\n",
              "      background-color: #434B5C;\n",
              "      box-shadow: 0px 1px 3px 1px rgba(0, 0, 0, 0.15);\n",
              "      filter: drop-shadow(0px 1px 2px rgba(0, 0, 0, 0.3));\n",
              "      fill: #FFFFFF;\n",
              "    }\n",
              "  </style>\n",
              "\n",
              "      <script>\n",
              "        const buttonEl =\n",
              "          document.querySelector('#df-4e099c47-9587-476c-a139-4b39bf19f8af button.colab-df-convert');\n",
              "        buttonEl.style.display =\n",
              "          google.colab.kernel.accessAllowed ? 'block' : 'none';\n",
              "\n",
              "        async function convertToInteractive(key) {\n",
              "          const element = document.querySelector('#df-4e099c47-9587-476c-a139-4b39bf19f8af');\n",
              "          const dataTable =\n",
              "            await google.colab.kernel.invokeFunction('convertToInteractive',\n",
              "                                                     [key], {});\n",
              "          if (!dataTable) return;\n",
              "\n",
              "          const docLinkHtml = 'Like what you see? Visit the ' +\n",
              "            '<a target=\"_blank\" href=https://colab.research.google.com/notebooks/data_table.ipynb>data table notebook</a>'\n",
              "            + ' to learn more about interactive tables.';\n",
              "          element.innerHTML = '';\n",
              "          dataTable['output_type'] = 'display_data';\n",
              "          await google.colab.output.renderOutput(dataTable, element);\n",
              "          const docLink = document.createElement('div');\n",
              "          docLink.innerHTML = docLinkHtml;\n",
              "          element.appendChild(docLink);\n",
              "        }\n",
              "      </script>\n",
              "    </div>\n",
              "  </div>\n",
              "  "
            ]
          },
          "metadata": {},
          "execution_count": 21
        }
      ]
    },
    {
      "cell_type": "markdown",
      "source": [
        "COLUMNAS DE LA TABLA IDENTIDAD:\n",
        "TransactionID<br>\n",
        "id_12 - id_38<BR>\n",
        "DeviceType<BR>\n",
        "DeviceInfo<BR>"
      ],
      "metadata": {
        "id": "8SpJlx7RPccc"
      }
    },
    {
      "cell_type": "code",
      "source": [
        "#Se imprimen las columnas para poder identificarlas y seleccionar cuáles serán susceptibles de análisis. Para esto, tomaremos solamente la tabla de identidad\n",
        "\n",
        "df.columns\n"
      ],
      "metadata": {
        "colab": {
          "base_uri": "https://localhost:8080/"
        },
        "id": "mTUaN9or8GG2",
        "outputId": "1f503bfc-4472-4252-c38d-c01ca9114cee"
      },
      "execution_count": 22,
      "outputs": [
        {
          "output_type": "execute_result",
          "data": {
            "text/plain": [
              "Index(['TransactionID', 'id-01', 'id-02', 'id-03', 'id-04', 'id-05', 'id-06',\n",
              "       'id-07', 'id-08', 'id-09', 'id-10', 'id-11', 'id-12', 'id-13', 'id-14',\n",
              "       'id-15', 'id-16', 'id-17', 'id-18', 'id-19', 'id-20', 'id-21', 'id-22',\n",
              "       'id-23', 'id-24', 'id-25', 'id-26', 'id-27', 'id-28', 'id-29', 'id-30',\n",
              "       'id-31', 'id-32', 'id-33', 'id-34', 'id-35', 'id-36', 'id-37', 'id-38',\n",
              "       'DeviceType', 'DeviceInfo'],\n",
              "      dtype='object')"
            ]
          },
          "metadata": {},
          "execution_count": 22
        }
      ]
    },
    {
      "cell_type": "code",
      "source": [
        "#Para cumplir el requerimiento solicitado por el trabajo académico, tenemos 41 columnas y 141.907 instancias\n",
        "df.shape"
      ],
      "metadata": {
        "colab": {
          "base_uri": "https://localhost:8080/"
        },
        "id": "qzR-kqEA8ICw",
        "outputId": "eaaea338-92aa-4ab5-cef4-accf0127ccf5"
      },
      "execution_count": 23,
      "outputs": [
        {
          "output_type": "execute_result",
          "data": {
            "text/plain": [
              "(141907, 41)"
            ]
          },
          "metadata": {},
          "execution_count": 23
        }
      ]
    },
    {
      "cell_type": "code",
      "source": [
        "#Y la info exacta del DF\n",
        "df.info() "
      ],
      "metadata": {
        "colab": {
          "base_uri": "https://localhost:8080/"
        },
        "id": "Han3GLxt8JjU",
        "outputId": "6bd63f04-6e60-45db-e32f-37b2d5859e3b"
      },
      "execution_count": 24,
      "outputs": [
        {
          "output_type": "stream",
          "name": "stdout",
          "text": [
            "<class 'pandas.core.frame.DataFrame'>\n",
            "RangeIndex: 141907 entries, 0 to 141906\n",
            "Data columns (total 41 columns):\n",
            " #   Column         Non-Null Count   Dtype  \n",
            "---  ------         --------------   -----  \n",
            " 0   TransactionID  141907 non-null  int64  \n",
            " 1   id-01          141907 non-null  float64\n",
            " 2   id-02          136976 non-null  float64\n",
            " 3   id-03          66481 non-null   float64\n",
            " 4   id-04          66481 non-null   float64\n",
            " 5   id-05          134750 non-null  float64\n",
            " 6   id-06          134750 non-null  float64\n",
            " 7   id-07          5059 non-null    float64\n",
            " 8   id-08          5059 non-null    float64\n",
            " 9   id-09          74338 non-null   float64\n",
            " 10  id-10          74338 non-null   float64\n",
            " 11  id-11          136778 non-null  float64\n",
            " 12  id-12          141907 non-null  object \n",
            " 13  id-13          130286 non-null  float64\n",
            " 14  id-14          71357 non-null   float64\n",
            " 15  id-15          136977 non-null  object \n",
            " 16  id-16          125747 non-null  object \n",
            " 17  id-17          135966 non-null  float64\n",
            " 18  id-18          50875 non-null   float64\n",
            " 19  id-19          135906 non-null  float64\n",
            " 20  id-20          135633 non-null  float64\n",
            " 21  id-21          5059 non-null    float64\n",
            " 22  id-22          5062 non-null    float64\n",
            " 23  id-23          5062 non-null    object \n",
            " 24  id-24          4740 non-null    float64\n",
            " 25  id-25          5039 non-null    float64\n",
            " 26  id-26          5047 non-null    float64\n",
            " 27  id-27          5062 non-null    object \n",
            " 28  id-28          136778 non-null  object \n",
            " 29  id-29          136778 non-null  object \n",
            " 30  id-30          70659 non-null   object \n",
            " 31  id-31          136625 non-null  object \n",
            " 32  id-32          70671 non-null   float64\n",
            " 33  id-33          70671 non-null   object \n",
            " 34  id-34          72175 non-null   object \n",
            " 35  id-35          136977 non-null  object \n",
            " 36  id-36          136977 non-null  object \n",
            " 37  id-37          136977 non-null  object \n",
            " 38  id-38          136977 non-null  object \n",
            " 39  DeviceType     136931 non-null  object \n",
            " 40  DeviceInfo     115057 non-null  object \n",
            "dtypes: float64(23), int64(1), object(17)\n",
            "memory usage: 44.4+ MB\n"
          ]
        }
      ]
    },
    {
      "cell_type": "code",
      "source": [
        "#Debemos verificar cuántos valores nulos tenemos en la tabla, para esto hacemos el chequeo asi:\n",
        "\n",
        "Nulos_NoNulos= df.isna().any().any()#Vamos a encontrar cuantos valores NaN existen en nuestro dataframe\n",
        "Total_Nulos = df.isna().sum().sum()#Vamos a sumar el total de valores NaN presentes en el dataframe\n",
        "\n",
        "print(\"Hay valores nulos?: \"+str(Nulos_NoNulos))\n",
        "print(\"Total de nulos: \"+str(Total_Nulos))"
      ],
      "metadata": {
        "colab": {
          "base_uri": "https://localhost:8080/"
        },
        "id": "811PfKZgP7A8",
        "outputId": "a9eaa5a6-eb14-4adb-8ab8-723ba4e7128e"
      },
      "execution_count": 26,
      "outputs": [
        {
          "output_type": "stream",
          "name": "stdout",
          "text": [
            "Hay valores nulos?: True\n",
            "Total de nulos: 2105385\n"
          ]
        }
      ]
    },
    {
      "cell_type": "markdown",
      "source": [
        "Según el dato anterior, tenemos 2.105.385 de datos nulos, es decir, superior al 5%, ya que tenemos un total de 5.818.187 datos. <br>\n",
        "Con esto se cumple la condición solicitada en el trabajo académico"
      ],
      "metadata": {
        "id": "seUMXK30Tvkv"
      }
    },
    {
      "cell_type": "code",
      "source": [
        "df.isnull().sum() #Columnas con valores nulos"
      ],
      "metadata": {
        "id": "g483FzWS8Vaq",
        "colab": {
          "base_uri": "https://localhost:8080/"
        },
        "outputId": "870907c6-4feb-4e9e-d981-3b09d7eb994e"
      },
      "execution_count": 27,
      "outputs": [
        {
          "output_type": "execute_result",
          "data": {
            "text/plain": [
              "TransactionID         0\n",
              "id-01                 0\n",
              "id-02              4931\n",
              "id-03             75426\n",
              "id-04             75426\n",
              "id-05              7157\n",
              "id-06              7157\n",
              "id-07            136848\n",
              "id-08            136848\n",
              "id-09             67569\n",
              "id-10             67569\n",
              "id-11              5129\n",
              "id-12                 0\n",
              "id-13             11621\n",
              "id-14             70550\n",
              "id-15              4930\n",
              "id-16             16160\n",
              "id-17              5941\n",
              "id-18             91032\n",
              "id-19              6001\n",
              "id-20              6274\n",
              "id-21            136848\n",
              "id-22            136845\n",
              "id-23            136845\n",
              "id-24            137167\n",
              "id-25            136868\n",
              "id-26            136860\n",
              "id-27            136845\n",
              "id-28              5129\n",
              "id-29              5129\n",
              "id-30             71248\n",
              "id-31              5282\n",
              "id-32             71236\n",
              "id-33             71236\n",
              "id-34             69732\n",
              "id-35              4930\n",
              "id-36              4930\n",
              "id-37              4930\n",
              "id-38              4930\n",
              "DeviceType         4976\n",
              "DeviceInfo        26850\n",
              "dtype: int64"
            ]
          },
          "metadata": {},
          "execution_count": 27
        }
      ]
    },
    {
      "cell_type": "code",
      "source": [
        "df.isnull().mean() * 100 #Promedio en las columnas con valores nulos"
      ],
      "metadata": {
        "id": "dc9wcD868W3F",
        "colab": {
          "base_uri": "https://localhost:8080/"
        },
        "outputId": "2fb641ab-7ec3-4bdb-d623-fe55b9ddd513"
      },
      "execution_count": 28,
      "outputs": [
        {
          "output_type": "execute_result",
          "data": {
            "text/plain": [
              "TransactionID     0.000000\n",
              "id-01             0.000000\n",
              "id-02             3.474811\n",
              "id-03            53.151712\n",
              "id-04            53.151712\n",
              "id-05             5.043444\n",
              "id-06             5.043444\n",
              "id-07            96.434989\n",
              "id-08            96.434989\n",
              "id-09            47.614987\n",
              "id-10            47.614987\n",
              "id-11             3.614339\n",
              "id-12             0.000000\n",
              "id-13             8.189166\n",
              "id-14            49.715659\n",
              "id-15             3.474106\n",
              "id-16            11.387740\n",
              "id-17             4.186545\n",
              "id-18            64.149055\n",
              "id-19             4.228826\n",
              "id-20             4.421205\n",
              "id-21            96.434989\n",
              "id-22            96.432875\n",
              "id-23            96.432875\n",
              "id-24            96.659784\n",
              "id-25            96.449083\n",
              "id-26            96.443445\n",
              "id-27            96.432875\n",
              "id-28             3.614339\n",
              "id-29             3.614339\n",
              "id-30            50.207530\n",
              "id-31             3.722156\n",
              "id-32            50.199074\n",
              "id-33            50.199074\n",
              "id-34            49.139225\n",
              "id-35             3.474106\n",
              "id-36             3.474106\n",
              "id-37             3.474106\n",
              "id-38             3.474106\n",
              "DeviceType        3.506522\n",
              "DeviceInfo       18.920843\n",
              "dtype: float64"
            ]
          },
          "metadata": {},
          "execution_count": 28
        }
      ]
    }
  ]
}